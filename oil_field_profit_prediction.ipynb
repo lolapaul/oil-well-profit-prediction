{
 "cells": [
  {
   "cell_type": "markdown",
   "metadata": {},
   "source": [
    "¡Hola!\n",
    "\n",
    "Mi nombre es Marcos Torres y tengo el gusto de revisar tu código el día de hoy.\n",
    "\n",
    "Cuando vea algo notable o algún asunto en el notebook, te dejaré un comentario o un hint. Se que encontraras la mejor respuesta para resolver todos los comentarios, de no ser así, no te preocupes en futuras iteraciones dejaré comentarios y pistas más específicos.\n",
    "\n",
    "Este proceso es muy parecido al que se recibe de un gerente o de un Senior Data Scientist en un trabajo real, por lo que te estarás preparando para la experiencia en la vida real.\n",
    "\n",
    "Encontrarás comentarios en verde, amarillo o rojo como los siguientes:\n",
    "\n",
    "<div class=\"alert alert-block alert-success\">\n",
    "<b>Comentario del revisor</b> <a class=\"tocSkip\"></a>\n",
    "\n",
    "Buen trabajo. ¡Lo hiciste muy bien!\n",
    "</div>\n",
    "\n",
    "<div class=\"alert alert-block alert-warning\">\n",
    "<b>Comentario del revisor</b> <a class=\"tocSkip\"></a>\n",
    "\n",
    "Nota. Se puede mejorar.\n",
    "</div>\n",
    "\n",
    "<div class=\"alert alert-block alert-danger\">\n",
    "<b>Comentario del revisor</b> <a class=\"tocSkip\"></a>\n",
    "\n",
    "Necesitas corregirlo. Este bloque indica que se requiere una correción. El trabajo no se acepta si tiene estos bloques.\n",
    "</div>\n",
    "\n",
    "Puedes responder a mis comentarios usando estos bloques:\n",
    "\n",
    "<div class=\"alert alert-block alert-info\">\n",
    "<b>Respuesta del estudiante.</b> <a class=\"tocSkip\"></a>\n",
    "</div>"
   ]
  },
  {
   "cell_type": "markdown",
   "metadata": {},
   "source": [
    "## Descripción del proyecto\n",
    "\n",
    "Trabajas en la compañía de extracción de petróleo OilyGiant. Tu tarea es encontrar los mejores lugares donde abrir 200 pozos nuevos de petróleo.\n",
    "\n",
    "Para completar esta tarea, tendrás que realizar los siguientes pasos:\n",
    "\n",
    "* Leer los archivos con los parámetros recogidos de pozos petrolíferos en la región seleccionada: calidad de crudo y volumen de reservas.\n",
    "* Crear un modelo para predecir el volumen de reservas en pozos nuevos.\n",
    "* Elegir los pozos petrolíferos que tienen los valores estimados más altos.\n",
    "* Elegir la región con el beneficio total más alto para los pozos petrolíferos seleccionados.\n",
    "* Tienes datos sobre muestras de crudo de tres regiones. Ya se conocen los parámetros de cada pozo petrolero de la región. Crea un modelo que ayude a elegir la región con el mayor margen de beneficio. Analiza los beneficios y riesgos potenciales utilizando la técnica bootstrapping.\n",
    "\n",
    "Condiciones:\n",
    "\n",
    "* Solo se debe usar la regresión lineal para el entrenamiento del modelo.\n",
    "* Al explorar la región, se lleva a cabo un estudio de 500 puntos con la selección de los mejores 200 puntos para el cálculo del beneficio.\n",
    "* El presupuesto para el desarrollo de 200 pozos petroleros es de 100 millones de dólares.\n",
    "* Un barril de materias primas genera 4.5 USD de ingresos. El ingreso de una unidad de producto es de 4500 dólares (el volumen de reservas está expresado en miles de barriles).\n",
    "* Después de la evaluación de riesgo, mantén solo las regiones con riesgo de pérdidas inferior al 2.5%. De las que se ajustan a los criterios, se debe seleccionar la región con el beneficio promedio más alto.\n",
    "\n",
    "Descripción de datos\n",
    "Los datos de exploración geológica de las tres regiones se almacenan en archivos:\n",
    "\n",
    "* geo_data_0.csv. Descarga el conjunto de datos\n",
    "* geo_data_1.csv. Descarga el conjunto de datos\n",
    "* geo_data_2.csv. Descarga el conjunto de datos\n",
    "* id — identificador único de pozo de petróleo\n",
    "* f0, f1, f2 — tres características de los puntos (su significado específico no es importante, pero las características en sí son significativas)\n",
    "* product — volumen de reservas en el pozo de petróleo (miles de barriles)."
   ]
  },
  {
   "cell_type": "markdown",
   "metadata": {},
   "source": [
    "## Importar librerias"
   ]
  },
  {
   "cell_type": "code",
   "execution_count": 2,
   "metadata": {},
   "outputs": [],
   "source": [
    "import pandas as pd\n",
    "from sklearn.model_selection import train_test_split\n",
    "from sklearn.linear_model import LinearRegression\n",
    "from sklearn.metrics import mean_squared_error, r2_score, mean_absolute_error\n",
    "import numpy as np\n"
   ]
  },
  {
   "cell_type": "markdown",
   "metadata": {},
   "source": [
    "<div class=\"alert alert-block alert-success\">\n",
    "<b>Comentario del revisor</b> <a class=\"tocSkip\"></a>\n",
    "\n",
    "Bien, se uso una celda independiente para importar las librerías.\n",
    "</div>\n"
   ]
  },
  {
   "cell_type": "markdown",
   "metadata": {},
   "source": [
    "## Importar bases y entrenar y probar el modelo"
   ]
  },
  {
   "cell_type": "code",
   "execution_count": 3,
   "metadata": {},
   "outputs": [
    {
     "name": "stdout",
     "output_type": "stream",
     "text": [
      "Datos de /datasets/geo_data_0.csv:\n",
      "      id        f0        f1        f2     product\n",
      "0  txEyH  0.705745 -0.497823  1.221170  105.280062\n",
      "1  2acmU  1.334711 -0.340164  4.365080   73.037750\n",
      "2  409Wp  1.022732  0.151990  1.419926   85.265647\n",
      "3  iJLyR -0.032172  0.139033  2.978566  168.620776\n",
      "4  Xdl7t  1.988431  0.155413  4.751769  154.036647\n",
      "                  f0             f1             f2        product\n",
      "count  100000.000000  100000.000000  100000.000000  100000.000000\n",
      "mean        0.500419       0.250143       2.502647      92.500000\n",
      "std         0.871832       0.504433       3.248248      44.288691\n",
      "min        -1.408605      -0.848218     -12.088328       0.000000\n",
      "25%        -0.072580      -0.200881       0.287748      56.497507\n",
      "50%         0.502360       0.250252       2.515969      91.849972\n",
      "75%         1.073581       0.700646       4.715088     128.564089\n",
      "max         2.362331       1.343769      16.003790     185.364347\n",
      "Datos de /datasets/geo_data_1.csv:\n",
      "      id         f0         f1        f2     product\n",
      "0  kBEdx -15.001348  -8.276000 -0.005876    3.179103\n",
      "1  62mP7  14.272088  -3.475083  0.999183   26.953261\n",
      "2  vyE1P   6.263187  -5.948386  5.001160  134.766305\n",
      "3  KcrkZ -13.081196 -11.506057  4.999415  137.945408\n",
      "4  AHL4O  12.702195  -8.147433  5.004363  134.766305\n",
      "                  f0             f1             f2        product\n",
      "count  100000.000000  100000.000000  100000.000000  100000.000000\n",
      "mean        1.141296      -4.796579       2.494541      68.825000\n",
      "std         8.965932       5.119872       1.703572      45.944423\n",
      "min       -31.609576     -26.358598      -0.018144       0.000000\n",
      "25%        -6.298551      -8.267985       1.000021      26.953261\n",
      "50%         1.153055      -4.813172       2.011479      57.085625\n",
      "75%         8.621015      -1.332816       3.999904     107.813044\n",
      "max        29.421755      18.734063       5.019721     137.945408\n",
      "Datos de /datasets/geo_data_2.csv:\n",
      "      id        f0        f1        f2     product\n",
      "0  fwXo0 -1.146987  0.963328 -0.828965   27.758673\n",
      "1  WJtFt  0.262778  0.269839 -2.530187   56.069697\n",
      "2  ovLUW  0.194587  0.289035 -5.586433   62.871910\n",
      "3  q6cA6  2.236060 -0.553760  0.930038  114.572842\n",
      "4  WPMUX -0.515993  1.716266  5.899011  149.600746\n",
      "                  f0             f1             f2        product\n",
      "count  100000.000000  100000.000000  100000.000000  100000.000000\n",
      "mean        0.002023      -0.002081       2.495128      95.000000\n",
      "std         1.732045       1.730417       3.473445      44.749921\n",
      "min        -8.760004      -7.084020     -11.970335       0.000000\n",
      "25%        -1.162288      -1.174820       0.130359      59.450441\n",
      "50%         0.009424      -0.009482       2.484236      94.925613\n",
      "75%         1.158535       1.163678       4.858794     130.595027\n",
      "max         7.238262       7.844801      16.739402     190.029838\n",
      "Resultados para geo_data_0:\n",
      "Volumen medio de reservas predicho = 92.59256778438035\n",
      "RMSE(RECM) = 37.5794217150813\n",
      "R2 = 0.27994321524487786\n",
      "MAE(EAM) = 30.919600777151313\n",
      "Median\n",
      "37.67178003955267\n",
      "Resultados para geo_data_1:\n",
      "Volumen medio de reservas predicho = 68.728546895446\n",
      "RMSE(RECM) = 0.893099286775617\n",
      "R2 = 0.9996233978805127\n",
      "MAE(EAM) = 0.7187662442124758\n",
      "Median\n",
      "40.26547941945416\n",
      "Resultados para geo_data_2:\n",
      "Volumen medio de reservas predicho = 94.96504596800489\n",
      "RMSE(RECM) = 40.02970873393434\n",
      "R2 = 0.20524758386040443\n",
      "MAE(EAM) = 32.792652105481814\n",
      "Median\n",
      "37.92103997436729\n"
     ]
    }
   ],
   "source": [
    "# Paso 1: Descargar y preparar los datos\n",
    "def load_data(file_path):\n",
    "    data = pd.read_csv(file_path)\n",
    "    print(f\"Datos de {file_path}:\")\n",
    "    print(data.head())\n",
    "    print(data.describe())\n",
    "    return data\n",
    "\n",
    "# Paso 2: Entrenar y probar el modelo para cada región\n",
    "def train_and_evaluate(geo_data,region_name):\n",
    "    # 2.1 Dividir los datos\n",
    "    target = geo_data['product']\n",
    "    features = geo_data.drop(['product', 'id'], axis=1)\n",
    "    features_train, features_valid, target_train, target_valid = train_test_split(\n",
    "        features, target, test_size=0.25, random_state=12345\n",
    "    )\n",
    "\n",
    "    # 2.2 Entrenar el modelo y hacer predicciones\n",
    "    model = LinearRegression()\n",
    "    model.fit(features_train, target_train)\n",
    "    predictions_valid = model.predict(features_valid)\n",
    "\n",
    "    # 2.3 Guardar las predicciones y las respuestas correctas\n",
    "    results = pd.DataFrame({\n",
    "        'predictions': predictions_valid,\n",
    "        'actual': target_valid\n",
    "    })\n",
    "\n",
    "    # 2.4 Mostrar el volumen medio de reservas predicho y RMSE del modelo\n",
    "    mse = mean_squared_error(target_valid, predictions_valid)\n",
    "    rmse = mse ** 0.5\n",
    "    mean_volume = predictions_valid.mean()\n",
    "\n",
    "    print(f\"Resultados para {region_name}:\")\n",
    "    print(\"Volumen medio de reservas predicho =\", mean_volume)\n",
    "    print(\"RMSE(RECM) =\", rmse)\n",
    "    print(\"R2 =\", r2_score(target_valid, predictions_valid))\n",
    "    print(\"MAE(EAM) =\", mean_absolute_error(target_valid, predictions_valid))\n",
    "\n",
    "    # 2.5 Analizar los resultados\n",
    "    predicted_valid = pd.Series(target_train.median(), index=target_valid.index)\n",
    "    print('Median')\n",
    "    print(mean_absolute_error(target_valid, predicted_valid))\n",
    "\n",
    "    return model, results\n",
    "\n",
    "# Cargar los datos\n",
    "geo_data_0 = load_data('/datasets/geo_data_0.csv')\n",
    "geo_data_1 = load_data('/datasets/geo_data_1.csv')\n",
    "geo_data_2 = load_data('/datasets/geo_data_2.csv')\n",
    "\n",
    "# Entrenar y evaluar el modelo para cada región\n",
    "model_0, results_0 = train_and_evaluate(geo_data_0,'geo_data_0')\n",
    "model_1, results_1 = train_and_evaluate(geo_data_1,'geo_data_1')\n",
    "model_2, results_2 = train_and_evaluate(geo_data_2,'geo_data_2')\n"
   ]
  },
  {
   "cell_type": "markdown",
   "metadata": {},
   "source": [
    "<div class=\"alert alert-block alert-success\">\n",
    "<b>Comentario del revisor</b> <a class=\"tocSkip\"></a>\n",
    "\n",
    "Buen uso de los métodos de pandas para explorar los datos.\n",
    "</div>\n"
   ]
  },
  {
   "cell_type": "markdown",
   "metadata": {},
   "source": [
    "<div class=\"alert alert-block alert-success\">\n",
    "<b>Comentario del revisor</b> <a class=\"tocSkip\"></a>\n",
    "\n",
    "Se ajustó correctamente el modelo de regresión lineal para cada una de las regiones.\n",
    "</div>\n"
   ]
  },
  {
   "cell_type": "markdown",
   "metadata": {},
   "source": [
    "## Calcular Ganancias"
   ]
  },
  {
   "cell_type": "code",
   "execution_count": 4,
   "metadata": {},
   "outputs": [
    {
     "name": "stdout",
     "output_type": "stream",
     "text": [
      "Producción mínima requerida por pozo en unidades: 111.11111111111111\n",
      "Cantidad media de reservas en la región 0: 92.50000000000001\n",
      "Cantidad media de reservas en la región 1: 68.82500000000002\n",
      "Cantidad media de reservas en la región 2: 95.00000000000004\n",
      "Ganancia potencial en la región 0: 46895961.76960319\n",
      "Ganancia potencial en la región 1: 25246061.617150396\n",
      "Ganancia potencial en la región 2: 40637855.909425944\n",
      "La mejor región para el desarrollo de pozos petrolíferos es Región 0 con una ganancia potencial de 46895961.76960319\n"
     ]
    }
   ],
   "source": [
    "# Valores necesarios para los cálculos\n",
    "investment = 100_000_000\n",
    "num_wells = 200\n",
    "min_value_per_well = 500_000\n",
    "min_units_per_well = min_value_per_well / 4500  # Basado en la conversión de 1 unidad = 4,500 dólares\n",
    "\n",
    "print(f\"Producción mínima requerida por pozo en unidades: {min_units_per_well}\")\n",
    "\n",
    "# Comparar con la cantidad media de reservas en cada región\n",
    "mean_reserves_0 = geo_data_0['product'].mean()\n",
    "mean_reserves_1 = geo_data_1['product'].mean()\n",
    "mean_reserves_2 = geo_data_2['product'].mean()\n",
    "\n",
    "print(f\"Cantidad media de reservas en la región 0: {mean_reserves_0}\")\n",
    "print(f\"Cantidad media de reservas en la región 1: {mean_reserves_1}\")\n",
    "print(f\"Cantidad media de reservas en la región 2: {mean_reserves_2}\")\n",
    "\n",
    "# Función para calcular la ganancia de un conjunto de pozos de petróleo seleccionados\n",
    "def calculate_profit(predictions, price_per_unit=4500):\n",
    "    profit = (predictions.sum() * price_per_unit) - investment\n",
    "    return profit\n",
    "\n",
    "# Función para obtener los 200 mejores pozos\n",
    "def get_top_200_wells(geo_data, model):\n",
    "    features = geo_data.drop(['product', 'id'], axis=1)\n",
    "    predictions = model.predict(features)\n",
    "    geo_data['predictions'] = predictions\n",
    "    top_200_wells = geo_data.nlargest(200, 'predictions')\n",
    "    return top_200_wells\n",
    "\n",
    "top_200_0 = get_top_200_wells(geo_data_0, model_0)\n",
    "top_200_1 = get_top_200_wells(geo_data_1, model_1)\n",
    "top_200_2 = get_top_200_wells(geo_data_2, model_2)\n",
    "\n",
    "# Calcular la ganancia potencial para cada región\n",
    "profit_0 = calculate_profit(top_200_0['predictions'])\n",
    "profit_1 = calculate_profit(top_200_1['predictions'])\n",
    "profit_2 = calculate_profit(top_200_2['predictions'])\n",
    "\n",
    "print(f\"Ganancia potencial en la región 0: {profit_0}\")\n",
    "print(f\"Ganancia potencial en la región 1: {profit_1}\")\n",
    "print(f\"Ganancia potencial en la región 2: {profit_2}\")\n",
    "\n",
    "# Proponer una región para el desarrollo de pozos petrolíferos\n",
    "best_region = max([(profit_0, 'Región 0'), (profit_1, 'Región 1'), (profit_2, 'Región 2')])\n",
    "print(f\"La mejor región para el desarrollo de pozos petrolíferos es {best_region[1]} con una ganancia potencial de {best_region[0]}\")\n"
   ]
  },
  {
   "cell_type": "markdown",
   "metadata": {},
   "source": [
    "<div class=\"alert alert-block alert-success\">\n",
    "<b>Comentario del revisor</b> <a class=\"tocSkip\"></a>\n",
    "\n",
    "Bien, las ganancias se calcularon correctamente para el caso en que se toman los mejores 200 pozos de cada región.\n",
    "</div>\n"
   ]
  },
  {
   "cell_type": "markdown",
   "metadata": {},
   "source": [
    "## Cálculo de riesgos y ganancias de cada región"
   ]
  },
  {
   "cell_type": "code",
   "execution_count": 6,
   "metadata": {},
   "outputs": [
    {
     "name": "stdout",
     "output_type": "stream",
     "text": [
      "Región 0: Beneficio promedio = 4388399.45817286, IC 95% = [-671199.9921882052, 9498365.219931826], Riesgo de pérdidas = 4.9%\n",
      "Región 1: Beneficio promedio = 4534556.023329722, IC 95% = [439046.5734838095, 8252418.564208853], Riesgo de pérdidas = 1.3%\n",
      "Región 2: Beneficio promedio = 3583498.6297683315, IC 95% = [-1463196.2201969817, 8766994.180126645], Riesgo de pérdidas = 7.9%\n",
      "La mejor región para el desarrollo de pozos petrolíferos es Región 1 con un beneficio promedio de 4534556.023329722\n",
      "La elección anterior fue Región 1\n"
     ]
    }
   ],
   "source": [
    "# Función para realizar bootstrapping\n",
    "def bootstrap_profit(data_region, price_per_unit=4500, investment=100_000_000, n_bootstrap=1000):\n",
    "    bootstrapped_profits = []\n",
    "    for _ in range(n_bootstrap):\n",
    "        sample_data = data_region.sample(n=500, replace=False)\n",
    "        top_200_data = sample_data.sort_values(by='predictions', ascending=False).head(200)['product']\n",
    "        profit = calculate_profit(top_200_data, price_per_unit=price_per_unit)\n",
    "        bootstrapped_profits.append(profit)\n",
    "    return np.array(bootstrapped_profits)\n",
    "\n",
    "# Realizar bootstrapping para cada región\n",
    "bootstrap_profits_0 = bootstrap_profit(geo_data_0)\n",
    "bootstrap_profits_1 = bootstrap_profit(geo_data_1)\n",
    "bootstrap_profits_2 = bootstrap_profit(geo_data_2) \n",
    "\n",
    "# Calcular el beneficio promedio, el intervalo de confianza del 95% y el riesgo de pérdidas\n",
    "def profit_statistics(bootstrapped_profits):\n",
    "    mean_profit = np.mean(bootstrapped_profits)\n",
    "    lower_bound = np.percentile(bootstrapped_profits, 2.5)\n",
    "    upper_bound = np.percentile(bootstrapped_profits, 97.5)\n",
    "    loss_risk = np.mean(bootstrapped_profits < 0) * 100  # Riesgo de pérdidas en porcentaje\n",
    "    return mean_profit, lower_bound, upper_bound, loss_risk\n",
    "\n",
    "mean_profit_0, lower_0, upper_0, risk_0 = profit_statistics(bootstrap_profits_0)\n",
    "mean_profit_1, lower_1, upper_1, risk_1 = profit_statistics(bootstrap_profits_1)\n",
    "mean_profit_2, lower_2, upper_2, risk_2 = profit_statistics(bootstrap_profits_2)\n",
    "\n",
    "print(f\"Región 0: Beneficio promedio = {mean_profit_0}, IC 95% = [{lower_0}, {upper_0}], Riesgo de pérdidas = {risk_0}%\")\n",
    "print(f\"Región 1: Beneficio promedio = {mean_profit_1}, IC 95% = [{lower_1}, {upper_1}], Riesgo de pérdidas = {risk_1}%\")\n",
    "print(f\"Región 2: Beneficio promedio = {mean_profit_2}, IC 95% = [{lower_2}, {upper_2}], Riesgo de pérdidas = {risk_2}%\")\n",
    "\n",
    "# Proponer una región para el desarrollo de pozos petrolíferos\n",
    "best_region = max([(mean_profit_0, 'Región 0'), (mean_profit_1, 'Región 1'), (mean_profit_2, 'Región 2')], key=lambda x: x[0])\n",
    "print(f\"La mejor región para el desarrollo de pozos petrolíferos es {best_region[1]} con un beneficio promedio de {best_region[0]}\")\n",
    "\n",
    "# Comparar con la elección anterior\n",
    "print(f\"La elección anterior fue {best_region[1]}\")\n"
   ]
  },
  {
   "cell_type": "markdown",
   "metadata": {},
   "source": [
    "<div class=\"alert alert-block alert-danger\">\n",
    "<b>Comentario del revisor</b> <a class=\"tocSkip\"></a>\n",
    "\n",
    "¡Muy bien! Hay un par de cosas que se deben corregir en el proceso del bootstrap. \n",
    "\n",
    "- De acuerdo a las instrucciones, primero se seleccionan 500 pozos aleatoriamente, de estos se toman los 200 mejores. En tu caso tomaste los 200 mejores de entre todos los pozos de la región, es por eso que siempre salen valores positivos en la ganancia.\n",
    "- Los 200 mejores se seleccionan con respecto a las predicciones y las ganancias se calculan con respecto a los valores reales. Por esto recomiendo que tu función tenga como input la tabla completa en lugar de solo las predicciones.\n",
    "    \n",
    "    \n",
    "Con estos cambios tu función para calcular el bootstrap se debería ver así:\n",
    "    \n",
    "```\n",
    "# Función para realizar bootstrapping\n",
    "def bootstrap_profit(data_region, price_per_unit=4500, investment=100_000_000, n_bootstrap=1000):\n",
    "    bootstrapped_profits = []\n",
    "    for _ in range(n_bootstrap):\n",
    "        sample_data = data_region.sample(n=500, replace=False)\n",
    "        top_200_data = sample_data.sort_values(by='predictions', ascending=False).head(200)['product']\n",
    "        profit = calculate_profit(top_200_data, price_per_unit=price_per_unit)\n",
    "        bootstrapped_profits.append(profit)\n",
    "    return np.array(bootstrapped_profits)\n",
    "\n",
    "# Realizar bootstrapping para cada región\n",
    "bootstrap_profits_0 = bootstrap_profit(geo_data_0)\n",
    "bootstrap_profits_1 = bootstrap_profit(geo_data_1)\n",
    "bootstrap_profits_2 = bootstrap_profit(geo_data_2)    \n",
    "```\n",
    "    \n",
    "Con estos cambios ya se deberían obtener otros valores en las probabilidades de riesgo, los valores no deben ser ni 0 ni 100%, son valores como 6 o 7. Con estos cambios podrás realizar otras conclusiones.    \n",
    "</div>"
   ]
  },
  {
   "cell_type": "markdown",
   "metadata": {},
   "source": []
  },
  {
   "cell_type": "markdown",
   "metadata": {},
   "source": [
    "## Conclusiones"
   ]
  },
  {
   "cell_type": "markdown",
   "metadata": {},
   "source": [
    "\n",
    "Este proyecto se fue desarrollando en varias etapas cada una iba atacando los problemas a resolver, por un lado, escoger la región que tuviera mas potencial con base en el modelo y por otra la que nos diera la mayor ganancia posible.\n",
    "\n",
    "Se puso la condición de que cada pozo produjera por lo menos 111.11 unidades para evitar pérdidas, y todos los pozos estan en promedio abajo de esta cantidad: Región 0=92.5 unidades, Región 1=68.83, y Region 2=95.00 unidades. \n",
    "\n",
    "En término de ganancias potenciales, las regiones se encuentran así\n",
    "* Región 0 = $4,388,399\n",
    "* Región 1 = $4,534,556\n",
    "* Región 2 = $3,583,498.\n",
    "\n",
    "En términos de riesgo de pérdidas se encuentran así\n",
    "* Región 0 = 4.9%\n",
    "* Region 1 = 1.3%\n",
    "* Region 2 = 7.9%\n",
    "\n",
    "Entonces se aprecia como la región 1 es la mejor opción ya que tiene el mayor beneficio y el menor riesgo, además de contar con las mejores métricas de RMSE y MAE. Y esto, aún considerando que es la región que tiene la menor tasa de unidades producidas en promedio.\n",
    "\n",
    "Finalmente, con base en el análisis, se aconseja a la empresa OilyGiant invertir en la Región 1\n",
    "\n"
   ]
  },
  {
   "cell_type": "markdown",
   "metadata": {},
   "source": [
    "<div class=\"alert alert-block alert-success\">\n",
    "<b>Comentario del revisor</b> <a class=\"tocSkip\"></a>\n",
    "\n",
    "Muy buenas conclusiones, basadas en lo observado.\n",
    "</div>"
   ]
  },
  {
   "cell_type": "markdown",
   "metadata": {},
   "source": [
    "<div class=\"alert alert-block alert-success\">\n",
    "<b>Comentario del revisor</b> <a class=\"tocSkip\"></a>\n",
    "\n",
    "Gracias por atender a los comentarios. El proceso para calcular el bootstrap es correcto y se identificaron correctamente las probabilidades de riesgo. \n",
    "\n",
    "Ahora puedo aprobar tu proyecto. Éxito en los siguientes sprints.\n",
    "</div>"
   ]
  },
  {
   "cell_type": "code",
   "execution_count": null,
   "metadata": {},
   "outputs": [],
   "source": []
  }
 ],
 "metadata": {
  "ExecuteTimeLog": [
   {
    "duration": 1205,
    "start_time": "2024-08-11T03:00:26.904Z"
   },
   {
    "duration": 829,
    "start_time": "2024-08-11T03:00:28.113Z"
   },
   {
    "duration": 173,
    "start_time": "2024-08-11T03:00:30.663Z"
   },
   {
    "duration": 21,
    "start_time": "2024-08-11T03:00:53.772Z"
   },
   {
    "duration": 18,
    "start_time": "2024-08-11T03:01:09.813Z"
   },
   {
    "duration": 18,
    "start_time": "2024-08-11T03:01:15.254Z"
   },
   {
    "duration": 19,
    "start_time": "2024-08-11T03:20:58.022Z"
   },
   {
    "duration": 42,
    "start_time": "2024-08-11T03:24:54.934Z"
   },
   {
    "duration": 41,
    "start_time": "2024-08-11T03:25:01.335Z"
   },
   {
    "duration": 35,
    "start_time": "2024-08-11T03:25:13.183Z"
   },
   {
    "duration": 427,
    "start_time": "2024-08-11T03:25:58.519Z"
   },
   {
    "duration": 55,
    "start_time": "2024-08-11T03:26:53.154Z"
   },
   {
    "duration": 10578,
    "start_time": "2024-08-11T03:27:16.077Z"
   },
   {
    "duration": 10711,
    "start_time": "2024-08-11T03:29:56.502Z"
   },
   {
    "duration": 1236,
    "start_time": "2024-08-14T14:42:09.582Z"
   },
   {
    "duration": 4,
    "start_time": "2024-08-14T14:43:16.708Z"
   },
   {
    "duration": 802,
    "start_time": "2024-08-14T14:43:16.717Z"
   },
   {
    "duration": 295,
    "start_time": "2024-08-14T14:43:17.522Z"
   },
   {
    "duration": 10616,
    "start_time": "2024-08-14T14:43:17.820Z"
   },
   {
    "duration": 10537,
    "start_time": "2024-08-14T14:45:45.934Z"
   }
  ],
  "kernelspec": {
   "display_name": "Python 3 (ipykernel)",
   "language": "python",
   "name": "python3"
  },
  "language_info": {
   "codemirror_mode": {
    "name": "ipython",
    "version": 3
   },
   "file_extension": ".py",
   "mimetype": "text/x-python",
   "name": "python",
   "nbconvert_exporter": "python",
   "pygments_lexer": "ipython3",
   "version": "3.9.19"
  },
  "toc": {
   "base_numbering": 1,
   "nav_menu": {},
   "number_sections": true,
   "sideBar": true,
   "skip_h1_title": true,
   "title_cell": "Table of Contents",
   "title_sidebar": "Contents",
   "toc_cell": false,
   "toc_position": {},
   "toc_section_display": true,
   "toc_window_display": false
  }
 },
 "nbformat": 4,
 "nbformat_minor": 2
}
